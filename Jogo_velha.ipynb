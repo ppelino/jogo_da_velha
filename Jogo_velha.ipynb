{
 "cells": [
  {
   "cell_type": "code",
   "execution_count": 1,
   "id": "7a640eb0",
   "metadata": {},
   "outputs": [],
   "source": [
    "import tkinter as tk\n",
    "from tkinter import messagebox\n",
    "\n",
    "class JogoDaVelhaGUI:\n",
    "    def __init__(self, root):\n",
    "        self.root = root\n",
    "        self.root.title(\"Jogo da Velha\")\n",
    "\n",
    "        self.tabuleiro = [[\" \" for _ in range(3)] for _ in range(3)]\n",
    "        self.jogador_atual = \"X\"\n",
    "\n",
    "        self.botoes = [[None for _ in range(3)] for _ in range(3)]\n",
    "\n",
    "        for i in range(3):\n",
    "            for j in range(3):\n",
    "                self.botoes[i][j] = tk.Button(root, text=\" \", font=(\"Helvetica\", 24), width=4, height=2,\n",
    "                                              command=lambda linha=i, coluna=j: self.fazer_jogada(linha, coluna))\n",
    "                self.botoes[i][j].grid(row=i, column=j)\n",
    "\n",
    "    def fazer_jogada(self, linha, coluna):\n",
    "        if self.tabuleiro[linha][coluna] == \" \":\n",
    "            self.tabuleiro[linha][coluna] = self.jogador_atual\n",
    "            self.botoes[linha][coluna].config(text=self.jogador_atual)\n",
    "            if self.verificar_vitoria():\n",
    "                messagebox.showinfo(\"Fim do Jogo\", f\"O Jogador {self.jogador_atual} venceu!\")\n",
    "                self.resetar_jogo()\n",
    "            elif all(self.tabuleiro[i][j] != \" \" for i in range(3) for j in range(3)):\n",
    "                messagebox.showinfo(\"Fim do Jogo\", \"Empate!\")\n",
    "                self.resetar_jogo()\n",
    "            else:\n",
    "                self.jogador_atual = \"O\" if self.jogador_atual == \"X\" else \"X\"\n",
    "        else:\n",
    "            messagebox.showwarning(\"Posição Inválida\", \"Posição já ocupada. Tente novamente.\")\n",
    "\n",
    "    def verificar_vitoria(self):\n",
    "        for i in range(3):\n",
    "            if all(self.tabuleiro[i][j] == self.jogador_atual for j in range(3)) or \\\n",
    "               all(self.tabuleiro[j][i] == self.jogador_atual for j in range(3)):\n",
    "                return True\n",
    "\n",
    "        if all(self.tabuleiro[i][i] == self.jogador_atual for i in range(3)) or \\\n",
    "           all(self.tabuleiro[i][2 - i] == self.jogador_atual for i in range(3)):\n",
    "            return True\n",
    "\n",
    "        return False\n",
    "\n",
    "    def resetar_jogo(self):\n",
    "        for i in range(3):\n",
    "            for j in range(3):\n",
    "                self.tabuleiro[i][j] = \" \"\n",
    "                self.botoes[i][j].config(text=\" \")\n",
    "\n",
    "if __name__ == \"__main__\":\n",
    "    root = tk.Tk()\n",
    "    jogo_da_velha_gui = JogoDaVelhaGUI(root)\n",
    "    root.mainloop()\n"
   ]
  },
  {
   "cell_type": "code",
   "execution_count": null,
   "id": "80aefef1",
   "metadata": {},
   "outputs": [],
   "source": []
  }
 ],
 "metadata": {
  "kernelspec": {
   "display_name": "Python 3 (ipykernel)",
   "language": "python",
   "name": "python3"
  },
  "language_info": {
   "codemirror_mode": {
    "name": "ipython",
    "version": 3
   },
   "file_extension": ".py",
   "mimetype": "text/x-python",
   "name": "python",
   "nbconvert_exporter": "python",
   "pygments_lexer": "ipython3",
   "version": "3.10.9"
  }
 },
 "nbformat": 4,
 "nbformat_minor": 5
}
